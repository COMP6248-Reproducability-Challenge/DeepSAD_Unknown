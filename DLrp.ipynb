{
 "cells": [
  {
   "cell_type": "code",
   "execution_count": null,
   "metadata": {},
   "outputs": [],
   "source": [
    "#Test fmnist"
   ]
  },
  {
   "cell_type": "code",
   "execution_count": 86,
   "metadata": {},
   "outputs": [],
   "source": [
    "from matplotlib import pyplot as plt\n",
    "\n",
    "#FMNIST 1\n",
    "SAD0 = [82.09, 75.45, 81.42, 81.47, 66.03, 78.55, 82.2, 79.35, 66.71, 72.91, 53.33, 70.45, 73.44, 79.24, 70.05, 82.04, 79.46, 79.03, 74.42, 78.34, 69.11, 78.57, 69.17, 71.69, 68.59]\n",
    "SAD1 = [84.04, 79.29, 85.86, 75.43, 82.23, 77.45, 82.89, 83.41, 83.22, 84.99, 83.94, 85.75, 85.3, 83.8, 84.63, 73.49, 84.06, 84.57, 83.42, 83.91, 86.43, 73.11, 82.61, 85.39, 83.42]\n",
    "SAD2 = [85.29, 85.85, 78.59, 84.99, 85.54, 81.98, 80.59, 85.04, 87.61, 78.54, 82.12, 85.74, 82.21, 78.8, 86.25, 71.14, 85.25, 84.07, 77.83, 86.85, 83.46, 83.17, 85.49, 85.01, 86.65]\n",
    "SAD3 = [85.5, 87.88, 76.8, 81.57, 83.77, 83.86, 86.32, 87.46, 88.0, 83.26, 88.05, 87.98, 84.03, 86.41, 84.4, 76.43, 83.71, 79.78, 83.44, 81.92, 86.77, 82.21, 88.15, 84.58, 87.33]\n",
    "SAD4 = [87.22, 83.45, 83.3, 86.06, 86.85, 85.0, 78.25, 82.17, 82.99, 85.34, 86.77, 87.0, 83.47, 86.2, 87.4, 84.73, 88.16, 88.08, 87.88, 85.13, 83.79, 78.74, 83.38, 86.66, 85.42]\n",
    "\n",
    "ssad0 = [89.42, 89.33, 89.42, 89.42, 89.42, 89.17, 89.17, 89.33, 89.17, 89.42, 89.42, 89.42, 87.84, 89.42, 89.42, 89.17, 89.33, 89.33, 89.42, 89.42, 87.84, 87.84, 89.33, 89.42, 89.33]\n",
    "ssad1 = [90.03, 90.03, 90.03, 90.03, 90.03, 89.87, 89.87, 90.03, 89.67, 90.03, 90.03, 90.03, 90.03, 90.03, 90.03, 89.67, 90.03, 90.03, 90.03, 90.03, 88.44, 89.87, 89.87, 90.03, 90.03]\n",
    "ssad2 = [90.3, 90.39, 90.3, 90.3, 90.39, 90.18, 89.95, 90.39, 89.95, 90.39, 90.39, 90.3, 90.04, 90.39, 90.3, 89.95, 90.39, 90.39, 90.3, 90.18, 90.04, 90.04, 90.18, 90.3, 90.04]\n",
    "ssad3 = [90.3, 89.47, 90.3, 90.3, 90.3, 90.38, 89.99, 90.43, 89.99, 90.43, 90.38, 90.3, 89.47, 90.43, 90.43, 89.99, 90.43, 90.43, 90.3, 90.43, 89.47, 89.47, 90.38, 90.3, 89.78]\n",
    "ssad4 = [90.37, 89.3, 90.37, 90.37, 90.37, 90.51, 90.51, 90.59, 90.07, 90.59, 90.59, 90.37, 89.3, 90.59, 90.59, 90.59, 90.59, 90.59, 90.37, 90.59, 90.51, 89.3, 90.51, 90.37, 90.51]"
   ]
  },
  {
   "cell_type": "code",
   "execution_count": 87,
   "metadata": {},
   "outputs": [
    {
     "data": {
      "text/plain": [
       "{'whiskers': [<matplotlib.lines.Line2D at 0x1a139d55430>,\n",
       "  <matplotlib.lines.Line2D at 0x1a138b0e610>,\n",
       "  <matplotlib.lines.Line2D at 0x1a139e88d60>,\n",
       "  <matplotlib.lines.Line2D at 0x1a139e88cd0>,\n",
       "  <matplotlib.lines.Line2D at 0x1a139e0dee0>,\n",
       "  <matplotlib.lines.Line2D at 0x1a139e0daf0>,\n",
       "  <matplotlib.lines.Line2D at 0x1a13a002ac0>,\n",
       "  <matplotlib.lines.Line2D at 0x1a13a002eb0>,\n",
       "  <matplotlib.lines.Line2D at 0x1a138a9b880>,\n",
       "  <matplotlib.lines.Line2D at 0x1a134f02eb0>],\n",
       " 'caps': [<matplotlib.lines.Line2D at 0x1a138b0e700>,\n",
       "  <matplotlib.lines.Line2D at 0x1a139e887f0>,\n",
       "  <matplotlib.lines.Line2D at 0x1a13a19feb0>,\n",
       "  <matplotlib.lines.Line2D at 0x1a13a19f790>,\n",
       "  <matplotlib.lines.Line2D at 0x1a139e0dc10>,\n",
       "  <matplotlib.lines.Line2D at 0x1a139e0dbe0>,\n",
       "  <matplotlib.lines.Line2D at 0x1a13a0026a0>,\n",
       "  <matplotlib.lines.Line2D at 0x1a138c68490>,\n",
       "  <matplotlib.lines.Line2D at 0x1a138b14370>,\n",
       "  <matplotlib.lines.Line2D at 0x1a138b14250>],\n",
       " 'boxes': [<matplotlib.lines.Line2D at 0x1a138995790>,\n",
       "  <matplotlib.lines.Line2D at 0x1a139e88400>,\n",
       "  <matplotlib.lines.Line2D at 0x1a13a19f4f0>,\n",
       "  <matplotlib.lines.Line2D at 0x1a13a002040>,\n",
       "  <matplotlib.lines.Line2D at 0x1a13896d0a0>],\n",
       " 'medians': [<matplotlib.lines.Line2D at 0x1a139e881f0>,\n",
       "  <matplotlib.lines.Line2D at 0x1a13a19fb20>,\n",
       "  <matplotlib.lines.Line2D at 0x1a139e0d550>,\n",
       "  <matplotlib.lines.Line2D at 0x1a138884550>,\n",
       "  <matplotlib.lines.Line2D at 0x1a139d6f4c0>],\n",
       " 'fliers': [],\n",
       " 'means': []}"
      ]
     },
     "execution_count": 87,
     "metadata": {},
     "output_type": "execute_result"
    },
    {
     "data": {
      "image/png": "[encoded data removed]",
      "text/plain": [
       "<Figure size 360x216 with 1 Axes>"
      ]
     },
     "metadata": {
      "needs_background": "light"
     },
     "output_type": "display_data"
    }
   ],
   "source": [
    "fig,ax = plt.subplots(nrows=1,ncols=1,figsize=(5,3))\n",
    "ax.boxplot([SAD0,SAD1,SAD2,SAD3,SAD4],labels=['0','0.01','0.05','0.1','0.2'],showfliers=False, medianprops=dict(color='r'))"
   ]
  },
  {
   "cell_type": "code",
   "execution_count": 88,
   "metadata": {},
   "outputs": [
    {
     "data": {
      "text/plain": [
       "{'whiskers': [<matplotlib.lines.Line2D at 0x1a138568bb0>,\n",
       "  <matplotlib.lines.Line2D at 0x1a138b281c0>,\n",
       "  <matplotlib.lines.Line2D at 0x1a139d5e730>,\n",
       "  <matplotlib.lines.Line2D at 0x1a139d76370>,\n",
       "  <matplotlib.lines.Line2D at 0x1a138757310>,\n",
       "  <matplotlib.lines.Line2D at 0x1a138757d90>,\n",
       "  <matplotlib.lines.Line2D at 0x1a1380d2ca0>,\n",
       "  <matplotlib.lines.Line2D at 0x1a13886d070>,\n",
       "  <matplotlib.lines.Line2D at 0x1a138b9fc10>,\n",
       "  <matplotlib.lines.Line2D at 0x1a138b9f040>],\n",
       " 'caps': [<matplotlib.lines.Line2D at 0x1a138b282b0>,\n",
       "  <matplotlib.lines.Line2D at 0x1a139df1100>,\n",
       "  <matplotlib.lines.Line2D at 0x1a13897cd30>,\n",
       "  <matplotlib.lines.Line2D at 0x1a13897c550>,\n",
       "  <matplotlib.lines.Line2D at 0x1a138b7eeb0>,\n",
       "  <matplotlib.lines.Line2D at 0x1a1389b0d60>,\n",
       "  <matplotlib.lines.Line2D at 0x1a13886da60>,\n",
       "  <matplotlib.lines.Line2D at 0x1a13886d8b0>,\n",
       "  <matplotlib.lines.Line2D at 0x1a138b9f550>,\n",
       "  <matplotlib.lines.Line2D at 0x1a138ae4ca0>],\n",
       " 'boxes': [<matplotlib.lines.Line2D at 0x1a1380d78b0>,\n",
       "  <matplotlib.lines.Line2D at 0x1a138c76df0>,\n",
       "  <matplotlib.lines.Line2D at 0x1a1384b78e0>,\n",
       "  <matplotlib.lines.Line2D at 0x1a13894f2b0>,\n",
       "  <matplotlib.lines.Line2D at 0x1a13886daf0>],\n",
       " 'medians': [<matplotlib.lines.Line2D at 0x1a138c76f10>,\n",
       "  <matplotlib.lines.Line2D at 0x1a1384b7f70>,\n",
       "  <matplotlib.lines.Line2D at 0x1a13874eac0>,\n",
       "  <matplotlib.lines.Line2D at 0x1a13886d700>,\n",
       "  <matplotlib.lines.Line2D at 0x1a138ae4610>],\n",
       " 'fliers': [],\n",
       " 'means': []}"
      ]
     },
     "execution_count": 88,
     "metadata": {},
     "output_type": "execute_result"
    },
    {
     "data": {
      "image/png": "[encoded data removed]",
      "text/plain": [
       "<Figure size 360x216 with 1 Axes>"
      ]
     },
     "metadata": {
      "needs_background": "light"
     },
     "output_type": "display_data"
    }
   ],
   "source": [
    "fig,ax = plt.subplots(nrows=1,ncols=1,figsize=(5,3))\n",
    "ax.boxplot([ssad0,ssad1,ssad2,ssad3,ssad4],labels=['0','0.01','0.05','0.1','0.2'],showfliers=False, medianprops=dict(color='r'))"
   ]
  },
  {
   "cell_type": "code",
   "execution_count": 94,
   "metadata": {},
   "outputs": [],
   "source": [
    "#FMNIST 2\n",
    "iso0 = [85.07, 83.94, 85.05, 84.44, 84.61, 85.09, 85.06, 84.45, 84.18, 85.33, 85.09, 85.01, 84.88, 84.54, 84.06, 84.4, 83.89, 84.61, 84.43, 84.3, 84.15, 84.07, 84.51, 84.68, 84.11]\n",
    "iso1 = [84.87, 84.29, 84.69, 84.46, 84.05, 84.54, 84.36, 84.32, 84.06, 84.38, 83.8, 84.3, 84.35, 84.5, 84.31, 83.73, 84.34, 84.76, 84.23, 84.16, 84.21, 84.83, 84.33, 84.61, 84.15]\n",
    "iso2 = [83.5, 83.33, 83.68, 84.01, 83.41, 82.81, 83.97, 83.84, 83.2, 83.98, 83.52, 82.94, 83.4, 83.46, 83.67, 83.21, 83.04, 82.64, 83.21, 84.3, 83.37, 84.17, 84.59, 83.97, 83.06]\n",
    "iso3 = [81.91, 81.66, 82.39, 82.48, 82.99, 81.82, 82.02, 81.7, 83.07, 82.91, 81.68, 81.49, 80.69, 82.67, 81.81, 82.37, 82.41, 81.18, 81.6, 82.86, 82.2, 82.36, 81.61, 82.57, 82.24]\n",
    "iso4 = [79.99, 77.04, 78.46, 79.77, 79.62, 79.46, 78.98, 78.69, 80.08, 80.49, 78.89, 78.72, 79.01, 79.52, 79.43, 79.77, 79.0, 78.13, 80.65, 79.28, 79.73, 79.39, 79.21, 79.73, 79.04]\n",
    "\n",
    "\n",
    "SAD0 = [85.29, 85.85, 78.59, 84.99, 85.54, 81.98, 80.59, 85.04, 87.61, 78.54, 82.12, 85.74, 82.21, 78.8, 86.25, 71.14, 85.25, 84.07, 77.83, 86.85, 83.46, 83.17, 85.49, 85.01, 86.65]\n",
    "SAD1 = [82.97, 84.05, 80.22, 79.05, 84.95, 83.63, 71.05, 81.34, 83.65, 79.96, 83.48, 78.68, 84.39, 82.78, 80.97, 75.0, 86.33, 73.6, 81.59, 84.21, 85.5, 83.51, 78.44, 82.66, 82.83]\n",
    "SAD2 = [79.07, 69.81, 60.41, 77.76, 77.2, 76.09, 75.62, 78.11, 72.44, 71.47, 71.97, 75.52, 76.02, 76.89, 74.48, 79.67, 74.35, 75.23, 76.23, 74.06, 77.23, 78.94, 71.11, 78.96, 70.79]\n",
    "SAD3 = [70.76, 58.75, 60.22, 68.25, 64.51, 74.24, 73.07, 71.09, 74.7, 72.37, 71.09, 65.86, 65.3, 71.97, 63.72, 76.68, 70.74, 73.95, 68.58, 69.61, 58.77, 69.75, 64.44, 62.67, 68.45]\n",
    "SAD4 = [67.82, 64.68, 66.8, 50.19, 69.2, 62.73, 67.17, 58.41, 63.59, 65.65, 67.57, 64.62, 69.83, 66.56, 66.86, 55.99, 65.22, 69.7, 62.39, 58.08, 65.24, 64.42, 66.55, 65.52, 64.56]"
   ]
  },
  {
   "cell_type": "code",
   "execution_count": 95,
   "metadata": {},
   "outputs": [
    {
     "data": {
      "text/plain": [
       "{'whiskers': [<matplotlib.lines.Line2D at 0x1a13a4c1460>,\n",
       "  <matplotlib.lines.Line2D at 0x1a13a4c17c0>,\n",
       "  <matplotlib.lines.Line2D at 0x1a13a4be8e0>,\n",
       "  <matplotlib.lines.Line2D at 0x1a13a4bec40>,\n",
       "  <matplotlib.lines.Line2D at 0x1a13a540d90>,\n",
       "  <matplotlib.lines.Line2D at 0x1a13a549e80>,\n",
       "  <matplotlib.lines.Line2D at 0x1a13a54c250>,\n",
       "  <matplotlib.lines.Line2D at 0x1a13a54c5b0>,\n",
       "  <matplotlib.lines.Line2D at 0x1a13a5106d0>,\n",
       "  <matplotlib.lines.Line2D at 0x1a13a510a30>],\n",
       " 'caps': [<matplotlib.lines.Line2D at 0x1a13a4c1b20>,\n",
       "  <matplotlib.lines.Line2D at 0x1a13a4c1e80>,\n",
       "  <matplotlib.lines.Line2D at 0x1a13a4befd0>,\n",
       "  <matplotlib.lines.Line2D at 0x1a13a540370>,\n",
       "  <matplotlib.lines.Line2D at 0x1a13a549730>,\n",
       "  <matplotlib.lines.Line2D at 0x1a13a549850>,\n",
       "  <matplotlib.lines.Line2D at 0x1a13a54c910>,\n",
       "  <matplotlib.lines.Line2D at 0x1a13a54cc70>,\n",
       "  <matplotlib.lines.Line2D at 0x1a13a510d90>,\n",
       "  <matplotlib.lines.Line2D at 0x1a13a48d130>],\n",
       " 'boxes': [<matplotlib.lines.Line2D at 0x1a13a4c1100>,\n",
       "  <matplotlib.lines.Line2D at 0x1a13a4be580>,\n",
       "  <matplotlib.lines.Line2D at 0x1a13a540a30>,\n",
       "  <matplotlib.lines.Line2D at 0x1a13a549df0>,\n",
       "  <matplotlib.lines.Line2D at 0x1a13a510370>],\n",
       " 'medians': [<matplotlib.lines.Line2D at 0x1a13a4be220>,\n",
       "  <matplotlib.lines.Line2D at 0x1a13a5406d0>,\n",
       "  <matplotlib.lines.Line2D at 0x1a13a549130>,\n",
       "  <matplotlib.lines.Line2D at 0x1a13a54cfd0>,\n",
       "  <matplotlib.lines.Line2D at 0x1a13a48d490>],\n",
       " 'fliers': [],\n",
       " 'means': []}"
      ]
     },
     "execution_count": 95,
     "metadata": {},
     "output_type": "execute_result"
    },
    {
     "data": {
      "image/png": "[encoded data removed]",
      "text/plain": [
       "<Figure size 360x216 with 1 Axes>"
      ]
     },
     "metadata": {
      "needs_background": "light"
     },
     "output_type": "display_data"
    }
   ],
   "source": [
    "fig,ax = plt.subplots(nrows=1,ncols=1,figsize=(5,3))\n",
    "ax.boxplot([SAD0,SAD1,SAD2,SAD3,SAD4],labels=['0','0.01','0.05','0.1','0.2'],showfliers=False, medianprops=dict(color='r'))"
   ]
  },
  {
   "cell_type": "code",
   "execution_count": 96,
   "metadata": {},
   "outputs": [
    {
     "data": {
      "text/plain": [
       "(78.0, 86.0)"
      ]
     },
     "execution_count": 96,
     "metadata": {},
     "output_type": "execute_result"
    },
    {
     "data": {
      "image/png": "[encoded data removed]",
      "text/plain": [
       "<Figure size 360x216 with 1 Axes>"
      ]
     },
     "metadata": {
      "needs_background": "light"
     },
     "output_type": "display_data"
    }
   ],
   "source": [
    "fig,ax = plt.subplots(nrows=1,ncols=1,figsize=(5,3))\n",
    "ax.boxplot([iso0,iso1,iso2,iso3,iso4],labels=['0','0.01','0.05','0.1','0.2'],showfliers=False, medianprops=dict(color='r'))\n",
    "ax.set_ylim(78,86)\n"
   ]
  },
  {
   "cell_type": "code",
   "execution_count": 97,
   "metadata": {},
   "outputs": [],
   "source": [
    "#FMNIST 3\n",
    "ocSVM1 = [79.17, 80.48, 80.48, 80.48, 80.48, 80.48, 80.56, 80.56, 80.48, 80.48, 80.48, 80.56, 80.56, 80.48, 80.48, 80.48, 80.56, 80.56, 80.14, 80.56, 80.14, 80.48, 80.14, 80.48, 80.56]\n",
    "ocSVM2 = [81.98, 81.98, 82.13, 81.31, 82.13, 82.13, 81.98, 81.98, 82.13, 82.13, 82.13, 81.98, 81.98, 78.12, 82.13, 82.13, 81.98, 81.98, 81.31, 82.13, 81.98, 82.13, 81.98, 82.13, 82.13]\n",
    "ocSVM3 = [80.97, 79.25, 80.74, 80.99, 80.99, 80.74, 80.99, 80.97, 80.97, 80.74, 80.99, 80.99, 80.74, 80.99, 80.97, 80.74, 80.99, 80.74, 80.99, 80.74, 80.99, 80.74, 80.99, 80.99, 80.74]\n",
    "ocSVM4 = [80.3, 80.3, 80.36, 80.3, 76.83, 80.34, 80.3, 80.3, 80.36, 80.36, 80.36, 80.36, 80.36, 80.3, 80.36, 80.3, 80.36, 80.3, 80.3, 80.36, 80.3, 78.95, 80.3, 80.36, 80.36]\n",
    "\n",
    "SAD1 = [70.76, 58.75, 60.22, 68.25, 64.51, 74.24, 73.07, 71.09, 74.7, 72.37, 71.09, 65.86, 65.3, 71.97, 63.72, 76.68, 70.74, 73.95, 68.58, 69.61, 58.77, 69.75, 64.44, 62.67, 68.45]\n",
    "SAD2 = [68.64, 68.77, 63.56, 73.41, 67.38, 62.74, 67.56, 70.64, 69.47, 68.46, 66.22, 64.41, 73.8, 65.69, 67.93, 65.75, 68.61, 69.4, 64.76, 67.07, 74.3, 67.83, 64.72, 65.73, 66.24]\n",
    "SAD3 = [73.74, 81.14, 75.03, 75.95, 72.61, 73.44, 73.73, 74.7, 72.26, 76.21, 79.26, 72.29, 76.14, 78.23, 73.62, 74.67, 75.01, 70.23, 74.07, 71.49, 79.13, 71.6, 75.32, 69.04, 71.4]\n",
    "SAD4 = [84.12, 83.38, 82.19, 80.68, 80.63, 78.06, 81.62, 79.27, 80.67, 82.68, 81.14, 82.47, 84.61, 81.6, 81.43, 84.44, 80.25, 83.24, 84.98, 82.27, 84.0, 80.07, 82.77, 80.98, 79.75]"
   ]
  },
  {
   "cell_type": "code",
   "execution_count": 98,
   "metadata": {},
   "outputs": [
    {
     "data": {
      "text/plain": [
       "{'whiskers': [<matplotlib.lines.Line2D at 0x1a13a66f820>,\n",
       "  <matplotlib.lines.Line2D at 0x1a13a66fb80>,\n",
       "  <matplotlib.lines.Line2D at 0x1a13a681c70>,\n",
       "  <matplotlib.lines.Line2D at 0x1a13a681fa0>,\n",
       "  <matplotlib.lines.Line2D at 0x1a13a68dfd0>,\n",
       "  <matplotlib.lines.Line2D at 0x1a13a699340>,\n",
       "  <matplotlib.lines.Line2D at 0x1a13a6a3370>,\n",
       "  <matplotlib.lines.Line2D at 0x1a13a6a36a0>],\n",
       " 'caps': [<matplotlib.lines.Line2D at 0x1a13a66fee0>,\n",
       "  <matplotlib.lines.Line2D at 0x1a13a681280>,\n",
       "  <matplotlib.lines.Line2D at 0x1a13a68d310>,\n",
       "  <matplotlib.lines.Line2D at 0x1a13a68d640>,\n",
       "  <matplotlib.lines.Line2D at 0x1a13a699670>,\n",
       "  <matplotlib.lines.Line2D at 0x1a13a6999a0>,\n",
       "  <matplotlib.lines.Line2D at 0x1a13a6a39d0>,\n",
       "  <matplotlib.lines.Line2D at 0x1a13a6a3d00>],\n",
       " 'boxes': [<matplotlib.lines.Line2D at 0x1a13a66f520>,\n",
       "  <matplotlib.lines.Line2D at 0x1a13a681940>,\n",
       "  <matplotlib.lines.Line2D at 0x1a13a68dca0>,\n",
       "  <matplotlib.lines.Line2D at 0x1a13a6a3040>],\n",
       " 'medians': [<matplotlib.lines.Line2D at 0x1a13a6815e0>,\n",
       "  <matplotlib.lines.Line2D at 0x1a13a68d970>,\n",
       "  <matplotlib.lines.Line2D at 0x1a13a699cd0>,\n",
       "  <matplotlib.lines.Line2D at 0x1a13a6af070>],\n",
       " 'fliers': [],\n",
       " 'means': []}"
      ]
     },
     "execution_count": 98,
     "metadata": {},
     "output_type": "execute_result"
    },
    {
     "data": {
      "image/png": "[encoded data removed]",
      "text/plain": [
       "<Figure size 360x216 with 1 Axes>"
      ]
     },
     "metadata": {
      "needs_background": "light"
     },
     "output_type": "display_data"
    }
   ],
   "source": [
    "fig,ax = plt.subplots(nrows=1,ncols=1,figsize=(5,3))\n",
    "ax.boxplot([ocSVM1,ocSVM2,ocSVM3,ocSVM4],labels=['1','2','3','5'],showfliers=False,medianprops=dict(color='r'))"
   ]
  },
  {
   "cell_type": "code",
   "execution_count": 99,
   "metadata": {},
   "outputs": [
    {
     "data": {
      "text/plain": [
       "{'whiskers': [<matplotlib.lines.Line2D at 0x1a13a7010a0>,\n",
       "  <matplotlib.lines.Line2D at 0x1a13a701400>,\n",
       "  <matplotlib.lines.Line2D at 0x1a13a70b4f0>,\n",
       "  <matplotlib.lines.Line2D at 0x1a13a70b820>,\n",
       "  <matplotlib.lines.Line2D at 0x1a13a716850>,\n",
       "  <matplotlib.lines.Line2D at 0x1a13a716b80>,\n",
       "  <matplotlib.lines.Line2D at 0x1a13a722bb0>,\n",
       "  <matplotlib.lines.Line2D at 0x1a13a722ee0>],\n",
       " 'caps': [<matplotlib.lines.Line2D at 0x1a13a701790>,\n",
       "  <matplotlib.lines.Line2D at 0x1a13a701af0>,\n",
       "  <matplotlib.lines.Line2D at 0x1a13a70bb50>,\n",
       "  <matplotlib.lines.Line2D at 0x1a13a70be80>,\n",
       "  <matplotlib.lines.Line2D at 0x1a13a716eb0>,\n",
       "  <matplotlib.lines.Line2D at 0x1a13a722220>,\n",
       "  <matplotlib.lines.Line2D at 0x1a13a72f250>,\n",
       "  <matplotlib.lines.Line2D at 0x1a13a72f580>],\n",
       " 'boxes': [<matplotlib.lines.Line2D at 0x1a13a6f3d00>,\n",
       "  <matplotlib.lines.Line2D at 0x1a13a70b1c0>,\n",
       "  <matplotlib.lines.Line2D at 0x1a13a716520>,\n",
       "  <matplotlib.lines.Line2D at 0x1a13a722880>],\n",
       " 'medians': [<matplotlib.lines.Line2D at 0x1a13a701e50>,\n",
       "  <matplotlib.lines.Line2D at 0x1a13a7161f0>,\n",
       "  <matplotlib.lines.Line2D at 0x1a13a722550>,\n",
       "  <matplotlib.lines.Line2D at 0x1a13a72f8b0>],\n",
       " 'fliers': [],\n",
       " 'means': []}"
      ]
     },
     "execution_count": 99,
     "metadata": {},
     "output_type": "execute_result"
    },
    {
     "data": {
      "image/png": "[encoded data removed]",
      "text/plain": [
       "<Figure size 360x216 with 1 Axes>"
      ]
     },
     "metadata": {
      "needs_background": "light"
     },
     "output_type": "display_data"
    }
   ],
   "source": [
    "fig,ax = plt.subplots(nrows=1,ncols=1,figsize=(5,3))\n",
    "ax.boxplot([SAD1,SAD2,SAD3,SAD4],labels=['1','2','3','5'],showfliers=False,medianprops=dict(color='r'))"
   ]
  },
  {
   "cell_type": "code",
   "execution_count": 104,
   "metadata": {},
   "outputs": [],
   "source": [
    "#MNIST1\n",
    "SAD0 = [86.83, 89.54, 85.27, 88.03, 86.63, 88.77, 84.76, 90.9, 86.68, 91.36, 88.43, 87.35, 89.75, 92.02, 86.87, 90.42, 86.07, 87.04, 90.44, 84.47, 78.1, 86.55, 86.98, 83.89, 89.2]\n",
    "SAD1 = [90.27, 88.02, 86.66, 92.08, 91.18, 89.88, 92.5, 92.04, 92.46, 88.19, 92.01, 88.44, 91.93, 86.41, 86.63, 87.35, 90.12, 94.14, 93.65, 86.97, 90.5, 89.16, 94.16, 90.29, 88.61]\n",
    "SAD2 = [88.1, 93.05, 92.28, 90.49, 90.22, 89.68, 91.44, 85.91, 92.79, 93.44, 92.98, 93.42, 91.39, 91.14, 91.91, 92.82, 90.44, 90.74, 87.62, 94.87, 90.47, 91.25, 90.6, 92.25, 88.19]\n",
    "SAD3 = [90.72, 88.39, 93.57, 93.73, 89.76, 91.66, 92.14, 92.45, 91.11, 91.12, 91.91, 92.26, 93.29, 93.55, 94.03, 91.76, 92.52, 89.08, 91.75, 94.26, 94.27, 90.42, 90.95, 94.72, 91.72]\n",
    "SAD4 = [94.2, 91.7, 92.75, 93.16, 92.22, 91.82, 93.56, 90.71, 91.51, 91.5, 90.54, 90.85, 93.37, 90.74, 90.44, 94.42, 93.8, 93.73, 91.21, 92.35, 92.96, 91.83, 92.35, 91.12, 91.7]\n",
    "\n",
    "ssad0 = [92.59, 92.59, 92.59, 92.59, 92.59, 92.59, 92.59, 92.59, 92.59, 92.59, 92.59, 92.59, 92.59, 92.59, 92.59, 92.59, 92.59, 92.59, 92.59, 92.59, 92.59, 92.59, 92.59, 92.59, 92.59]\n",
    "ssad1 = [98.21, 97.19, 98.21, 97.19, 98.21, 98.21, 98.21, 98.21, 98.21, 98.21, 98.21, 97.19, 98.21, 98.21, 98.21, 98.21, 97.19, 97.19, 98.21, 97.19, 98.21, 98.21, 98.21, 97.19, 98.21]\n",
    "ssad2 = [98.19, 98.19, 95.31, 98.19, 98.19, 97.13, 98.19, 98.19, 98.19, 98.19, 98.19, 97.13, 98.19, 98.19, 98.19, 98.19, 98.19, 98.19, 98.19, 98.19, 98.19, 98.19, 98.19, 98.19, 98.19]\n",
    "ssad3 = [98.15, 97.41, 97.41, 98.15, 98.15, 98.15, 98.15, 98.15, 98.15, 98.15, 97.41, 97.41, 97.41, 98.15, 97.07, 98.15, 98.15, 97.41, 98.15, 98.15, 98.15, 98.15, 97.41, 97.41, 98.15]\n",
    "ssad4 = [97.43, 98.1, 98.1, 97.27, 98.1, 98.1, 98.1, 98.1, 98.1, 98.1, 97.27, 97.43, 98.1, 98.1, 98.1, 97.43, 98.1, 98.1, 97.27, 98.1, 97.27, 97.43, 98.1, 97.43, 97.27]"
   ]
  },
  {
   "cell_type": "code",
   "execution_count": 105,
   "metadata": {},
   "outputs": [
    {
     "data": {
      "text/plain": [
       "{'whiskers': [<matplotlib.lines.Line2D at 0x1a13a3ec520>,\n",
       "  <matplotlib.lines.Line2D at 0x1a13a3eca00>,\n",
       "  <matplotlib.lines.Line2D at 0x1a13a3eee20>,\n",
       "  <matplotlib.lines.Line2D at 0x1a13a3ee1f0>,\n",
       "  <matplotlib.lines.Line2D at 0x1a138a46220>,\n",
       "  <matplotlib.lines.Line2D at 0x1a138a46c10>,\n",
       "  <matplotlib.lines.Line2D at 0x1a13a082400>,\n",
       "  <matplotlib.lines.Line2D at 0x1a13a0826a0>,\n",
       "  <matplotlib.lines.Line2D at 0x1a13a482d00>,\n",
       "  <matplotlib.lines.Line2D at 0x1a13a1a8a30>],\n",
       " 'caps': [<matplotlib.lines.Line2D at 0x1a13a3ecbb0>,\n",
       "  <matplotlib.lines.Line2D at 0x1a13a3ecfd0>,\n",
       "  <matplotlib.lines.Line2D at 0x1a13a3ee190>,\n",
       "  <matplotlib.lines.Line2D at 0x1a13a1dd5e0>,\n",
       "  <matplotlib.lines.Line2D at 0x1a138a46b80>,\n",
       "  <matplotlib.lines.Line2D at 0x1a13a453c70>,\n",
       "  <matplotlib.lines.Line2D at 0x1a13a482a90>,\n",
       "  <matplotlib.lines.Line2D at 0x1a13a482b80>,\n",
       "  <matplotlib.lines.Line2D at 0x1a13a1a84f0>,\n",
       "  <matplotlib.lines.Line2D at 0x1a13a1a8100>],\n",
       " 'boxes': [<matplotlib.lines.Line2D at 0x1a138aef4f0>,\n",
       "  <matplotlib.lines.Line2D at 0x1a13a3eebb0>,\n",
       "  <matplotlib.lines.Line2D at 0x1a13a1ddb20>,\n",
       "  <matplotlib.lines.Line2D at 0x1a13a082850>,\n",
       "  <matplotlib.lines.Line2D at 0x1a13a482520>],\n",
       " 'medians': [<matplotlib.lines.Line2D at 0x1a13a3ec550>,\n",
       "  <matplotlib.lines.Line2D at 0x1a13a1ddfa0>,\n",
       "  <matplotlib.lines.Line2D at 0x1a13a082b20>,\n",
       "  <matplotlib.lines.Line2D at 0x1a13a482b20>,\n",
       "  <matplotlib.lines.Line2D at 0x1a13a1a8fd0>],\n",
       " 'fliers': [],\n",
       " 'means': []}"
      ]
     },
     "execution_count": 105,
     "metadata": {},
     "output_type": "execute_result"
    },
    {
     "data": {
      "image/png": "[encoded data removed]",
      "text/plain": [
       "<Figure size 360x216 with 1 Axes>"
      ]
     },
     "metadata": {
      "needs_background": "light"
     },
     "output_type": "display_data"
    }
   ],
   "source": [
    "fig,ax = plt.subplots(nrows=1,ncols=1,figsize=(5,3))\n",
    "ax.boxplot([SAD0,SAD1,SAD2,SAD3,SAD4],labels=['0','0.01','0.05','0.1','0.2'],showfliers=False, medianprops=dict(color='r'))"
   ]
  },
  {
   "cell_type": "code",
   "execution_count": 106,
   "metadata": {},
   "outputs": [
    {
     "data": {
      "text/plain": [
       "{'whiskers': [<matplotlib.lines.Line2D at 0x1a13a424e50>,\n",
       "  <matplotlib.lines.Line2D at 0x1a139ec0c40>,\n",
       "  <matplotlib.lines.Line2D at 0x1a13a0401f0>,\n",
       "  <matplotlib.lines.Line2D at 0x1a13a2e6070>,\n",
       "  <matplotlib.lines.Line2D at 0x1a13a108670>,\n",
       "  <matplotlib.lines.Line2D at 0x1a13a1087c0>,\n",
       "  <matplotlib.lines.Line2D at 0x1a138a145b0>,\n",
       "  <matplotlib.lines.Line2D at 0x1a138a14430>,\n",
       "  <matplotlib.lines.Line2D at 0x1a13a48b400>,\n",
       "  <matplotlib.lines.Line2D at 0x1a13a48b490>],\n",
       " 'caps': [<matplotlib.lines.Line2D at 0x1a139ec03a0>,\n",
       "  <matplotlib.lines.Line2D at 0x1a139ec0400>,\n",
       "  <matplotlib.lines.Line2D at 0x1a139ecca60>,\n",
       "  <matplotlib.lines.Line2D at 0x1a139ecc400>,\n",
       "  <matplotlib.lines.Line2D at 0x1a13a108d00>,\n",
       "  <matplotlib.lines.Line2D at 0x1a13a108970>,\n",
       "  <matplotlib.lines.Line2D at 0x1a138a14940>,\n",
       "  <matplotlib.lines.Line2D at 0x1a138a140a0>,\n",
       "  <matplotlib.lines.Line2D at 0x1a13a48bdc0>,\n",
       "  <matplotlib.lines.Line2D at 0x1a13a48be50>],\n",
       " 'boxes': [<matplotlib.lines.Line2D at 0x1a13a0f9d60>,\n",
       "  <matplotlib.lines.Line2D at 0x1a13a161910>,\n",
       "  <matplotlib.lines.Line2D at 0x1a139eccdf0>,\n",
       "  <matplotlib.lines.Line2D at 0x1a138a14250>,\n",
       "  <matplotlib.lines.Line2D at 0x1a13a3c3d00>],\n",
       " 'medians': [<matplotlib.lines.Line2D at 0x1a139ec0340>,\n",
       "  <matplotlib.lines.Line2D at 0x1a139ecc160>,\n",
       "  <matplotlib.lines.Line2D at 0x1a13a108100>,\n",
       "  <matplotlib.lines.Line2D at 0x1a13a017fa0>,\n",
       "  <matplotlib.lines.Line2D at 0x1a13a61b5b0>],\n",
       " 'fliers': [],\n",
       " 'means': []}"
      ]
     },
     "execution_count": 106,
     "metadata": {},
     "output_type": "execute_result"
    },
    {
     "data": {
      "image/png": "[encoded data removed]",
      "text/plain": [
       "<Figure size 360x216 with 1 Axes>"
      ]
     },
     "metadata": {
      "needs_background": "light"
     },
     "output_type": "display_data"
    }
   ],
   "source": [
    "fig,ax = plt.subplots(nrows=1,ncols=1,figsize=(5,3))\n",
    "ax.boxplot([ssad0,ssad1,ssad2,ssad3,ssad4],labels=['0','0.01','0.05','0.1','0.2'],showfliers=False, medianprops=dict(color='r'))"
   ]
  },
  {
   "cell_type": "code",
   "execution_count": 107,
   "metadata": {},
   "outputs": [],
   "source": [
    "#MNIST2\n",
    "SAD0 = [90.61, 88.98, 92.63, 89.71, 93.24, 89.29, 91.21, 89.53, 91.04, 92.15, 88.33, 92.25, 90.66, 92.7, 88.05, 92.06, 87.76, 91.95, 87.88, 93.32, 91.42, 90.22, 89.07, 92.17, 88.46]\n",
    "SAD1 = [90.52, 89.27, 91.21, 92.63, 90.85, 92.75, 89.87, 89.66, 89.35, 87.44, 88.07, 89.76, 92.42, 90.57, 86.63, 89.13, 90.31, 87.78, 89.97, 93.7, 91.19, 86.37, 87.97, 87.04, 91.66]\n",
    "SAD2 = [87.62, 90.36, 89.63, 88.83, 85.02, 89.29, 87.95, 86.91, 90.76, 88.61, 89.39, 87.96, 87.84, 88.75, 85.71, 86.0, 88.7, 88.73, 87.23, 91.08, 90.52, 89.08, 90.69, 87.88, 88.39]\n",
    "SAD3 = [85.82, 83.2, 85.54, 83.76, 85.99, 84.89, 85.32, 85.16, 87.3, 83.5, 85.92, 85.38, 82.36, 83.4, 84.24, 83.28, 85.85, 84.26, 84.78, 86.91, 82.32, 85.25, 83.14, 85.17, 85.5]\n",
    "SAD4 = [74.78, 82.33, 81.43, 77.91, 79.33, 75.76, 77.8, 78.09, 74.13, 78.87, 78.49, 79.54, 79.38, 78.03, 78.01, 78.51, 77.49, 76.39, 79.5, 76.64, 76.33, 78.76, 77.89, 77.63, 78.55]\n",
    "\n",
    "iso0 = [70.53, 72.29, 70.64, 72.17, 71.58, 71.77, 70.63, 71.8, 68.92, 72.72, 72.0, 70.86, 69.52, 72.72, 70.5, 71.09, 72.78, 68.96, 72.32, 73.18, 72.45, 72.42, 71.35, 73.12, 71.64]\n",
    "iso1 = [71.83, 71.12, 70.21, 72.04, 70.71, 69.87, 68.21, 70.54, 71.04, 71.34, 71.34, 70.75, 70.85, 70.75, 71.43, 72.43, 73.89, 70.34, 72.04, 70.72, 71.14, 72.14, 72.26, 72.01, 69.93]\n",
    "iso2 = [68.97, 67.12, 68.22, 69.88, 67.13, 67.11, 68.65, 70.43, 71.18, 68.13, 66.83, 68.87, 69.23, 69.31, 68.17, 71.82, 67.93, 70.13, 68.77, 71.2, 67.67, 70.29, 67.59, 68.78, 69.61]\n",
    "iso3 = [68.66, 66.51, 67.26, 67.28, 67.43, 66.6, 66.98, 68.82, 68.34, 67.49, 67.52, 68.41, 63.77, 67.33, 67.59, 67.89, 66.91, 67.42, 65.93, 65.76, 67.19, 67.79, 66.21, 64.94, 65.28]\n",
    "iso4 = [60.61, 63.5, 63.4, 60.45, 62.92, 62.21, 60.62, 63.65, 60.08, 62.32, 61.15, 61.01, 62.97, 61.16, 62.68, 61.22, 63.72, 60.75, 59.37, 63.2, 60.67, 63.03, 61.01, 61.84, 61.18]"
   ]
  },
  {
   "cell_type": "code",
   "execution_count": 108,
   "metadata": {},
   "outputs": [
    {
     "data": {
      "text/plain": [
       "{'whiskers': [<matplotlib.lines.Line2D at 0x1a13a3bfb20>,\n",
       "  <matplotlib.lines.Line2D at 0x1a13a3960a0>,\n",
       "  <matplotlib.lines.Line2D at 0x1a13a3c21c0>,\n",
       "  <matplotlib.lines.Line2D at 0x1a13a3c2520>,\n",
       "  <matplotlib.lines.Line2D at 0x1a13a19a640>,\n",
       "  <matplotlib.lines.Line2D at 0x1a13a19a9a0>,\n",
       "  <matplotlib.lines.Line2D at 0x1a13a1a5af0>,\n",
       "  <matplotlib.lines.Line2D at 0x1a13a1a5e50>,\n",
       "  <matplotlib.lines.Line2D at 0x1a13a1b9f70>,\n",
       "  <matplotlib.lines.Line2D at 0x1a13a5c20a0>],\n",
       " 'caps': [<matplotlib.lines.Line2D at 0x1a13a396400>,\n",
       "  <matplotlib.lines.Line2D at 0x1a13a396760>,\n",
       "  <matplotlib.lines.Line2D at 0x1a13a3c2880>,\n",
       "  <matplotlib.lines.Line2D at 0x1a13a3c2be0>,\n",
       "  <matplotlib.lines.Line2D at 0x1a13a19ad30>,\n",
       "  <matplotlib.lines.Line2D at 0x1a13a1a50d0>,\n",
       "  <matplotlib.lines.Line2D at 0x1a13a1b91f0>,\n",
       "  <matplotlib.lines.Line2D at 0x1a13a1b9550>,\n",
       "  <matplotlib.lines.Line2D at 0x1a13a5c24c0>,\n",
       "  <matplotlib.lines.Line2D at 0x1a13a5c2e20>],\n",
       " 'boxes': [<matplotlib.lines.Line2D at 0x1a13a3bfd60>,\n",
       "  <matplotlib.lines.Line2D at 0x1a13a396e20>,\n",
       "  <matplotlib.lines.Line2D at 0x1a13a19a2e0>,\n",
       "  <matplotlib.lines.Line2D at 0x1a13a1a5790>,\n",
       "  <matplotlib.lines.Line2D at 0x1a13a1b9c10>],\n",
       " 'medians': [<matplotlib.lines.Line2D at 0x1a13a396ac0>,\n",
       "  <matplotlib.lines.Line2D at 0x1a13a3c2f40>,\n",
       "  <matplotlib.lines.Line2D at 0x1a13a1a5430>,\n",
       "  <matplotlib.lines.Line2D at 0x1a13a1b98b0>,\n",
       "  <matplotlib.lines.Line2D at 0x1a13a5c2250>],\n",
       " 'fliers': [],\n",
       " 'means': []}"
      ]
     },
     "execution_count": 108,
     "metadata": {},
     "output_type": "execute_result"
    },
    {
     "data": {
      "image/png": "[encoded data removed]",
      "text/plain": [
       "<Figure size 360x216 with 1 Axes>"
      ]
     },
     "metadata": {
      "needs_background": "light"
     },
     "output_type": "display_data"
    }
   ],
   "source": [
    "fig,ax = plt.subplots(nrows=1,ncols=1,figsize=(5,3))\n",
    "ax.boxplot([SAD0,SAD1,SAD2,SAD3,SAD4],labels=['0','0.01','0.05','0.1','0.2'],showfliers=False, medianprops=dict(color='r'))"
   ]
  },
  {
   "cell_type": "code",
   "execution_count": 109,
   "metadata": {},
   "outputs": [
    {
     "data": {
      "text/plain": [
       "{'whiskers': [<matplotlib.lines.Line2D at 0x1a13a81b3a0>,\n",
       "  <matplotlib.lines.Line2D at 0x1a13a81b700>,\n",
       "  <matplotlib.lines.Line2D at 0x1a13a824820>,\n",
       "  <matplotlib.lines.Line2D at 0x1a13a824b80>,\n",
       "  <matplotlib.lines.Line2D at 0x1a13a830ca0>,\n",
       "  <matplotlib.lines.Line2D at 0x1a13a838040>,\n",
       "  <matplotlib.lines.Line2D at 0x1a13a844160>,\n",
       "  <matplotlib.lines.Line2D at 0x1a13a8444c0>,\n",
       "  <matplotlib.lines.Line2D at 0x1a13a8505e0>,\n",
       "  <matplotlib.lines.Line2D at 0x1a13a850940>],\n",
       " 'caps': [<matplotlib.lines.Line2D at 0x1a13a81ba60>,\n",
       "  <matplotlib.lines.Line2D at 0x1a13a81bdc0>,\n",
       "  <matplotlib.lines.Line2D at 0x1a13a824ee0>,\n",
       "  <matplotlib.lines.Line2D at 0x1a13a830280>,\n",
       "  <matplotlib.lines.Line2D at 0x1a13a8383a0>,\n",
       "  <matplotlib.lines.Line2D at 0x1a13a838700>,\n",
       "  <matplotlib.lines.Line2D at 0x1a13a844820>,\n",
       "  <matplotlib.lines.Line2D at 0x1a13a844b80>,\n",
       "  <matplotlib.lines.Line2D at 0x1a13a850ca0>,\n",
       "  <matplotlib.lines.Line2D at 0x1a13a85b040>],\n",
       " 'boxes': [<matplotlib.lines.Line2D at 0x1a13a104fd0>,\n",
       "  <matplotlib.lines.Line2D at 0x1a13a8244c0>,\n",
       "  <matplotlib.lines.Line2D at 0x1a13a830940>,\n",
       "  <matplotlib.lines.Line2D at 0x1a13a838dc0>,\n",
       "  <matplotlib.lines.Line2D at 0x1a13a850280>],\n",
       " 'medians': [<matplotlib.lines.Line2D at 0x1a13a824160>,\n",
       "  <matplotlib.lines.Line2D at 0x1a13a8305e0>,\n",
       "  <matplotlib.lines.Line2D at 0x1a13a838a60>,\n",
       "  <matplotlib.lines.Line2D at 0x1a13a844ee0>,\n",
       "  <matplotlib.lines.Line2D at 0x1a13a85b3a0>],\n",
       " 'fliers': [],\n",
       " 'means': []}"
      ]
     },
     "execution_count": 109,
     "metadata": {},
     "output_type": "execute_result"
    },
    {
     "data": {
      "image/png": "[encoded data removed]",
      "text/plain": [
       "<Figure size 360x216 with 1 Axes>"
      ]
     },
     "metadata": {
      "needs_background": "light"
     },
     "output_type": "display_data"
    }
   ],
   "source": [
    "fig,ax = plt.subplots(nrows=1,ncols=1,figsize=(5,3))\n",
    "ax.boxplot([iso0,iso1,iso2,iso3,iso4],labels=['0','0.01','0.05','0.1','0.2'],showfliers=False, medianprops=dict(color='r'))"
   ]
  },
  {
   "cell_type": "code",
   "execution_count": 128,
   "metadata": {},
   "outputs": [],
   "source": [
    "#MNIST3\n",
    "SAD1 = [85.82, 83.2, 85.54, 83.76, 85.99, 84.89, 85.32, 85.16, 87.3, 83.5, 85.92, 85.38, 82.36, 83.4, 84.24, 83.28, 85.85, 84.26, 84.78, 86.91, 82.32, 85.25, 83.14, 85.17, 85.5]\n",
    "SAD2 = [87.99, 91.6, 91.63, 90.35, 91.52, 91.86, 90.54, 92.13, 90.92, 92.8, 91.9, 87.65, 91.54, 92.24, 91.66, 90.6, 91.02, 90.55, 92.8, 86.51, 90.42, 90.52, 91.07, 91.1, 92.66]\n",
    "SAD3 = [95.56, 96.75, 95.99, 96.23, 95.08, 95.02, 95.22, 95.93, 96.33, 95.09, 95.13, 96.64, 94.97, 95.19, 96.1, 95.62, 95.86, 96.46, 95.62, 95.15, 95.53, 95.19, 96.37, 95.12, 95.11]\n",
    "SAD4 = [98.58, 98.41, 98.27, 98.32, 98.45, 98.63, 98.35, 98.29, 98.58, 98.47, 98.14, 98.53, 98.35, 98.25, 98.62, 98.56, 98.79, 98.08, 98.27, 98.3, 97.26, 98.71, 98.62, 97.77, 98.16]\n",
    "\n",
    "oc1 = [74.68, 74.91, 74.92, 75.17, 75.17, 75.17, 74.68, 74.91, 74.92, 75.17, 74.92, 74.68, 74.23, 74.21, 74.68, 75.17, 75.17, 74.68, 75.17, 74.68, 75.17, 75.17, 75.17, 74.68, 75.17]\n",
    "oc2 = [73.95, 73.95, 73.95, 73.95, 73.95, 73.95, 73.95, 72.56, 72.82, 73.95, 73.96, 73.95, 72.56, 73.95, 72.81, 72.56, 72.56, 72.56, 73.95, 72.56, 73.95, 73.95, 72.56, 73.95, 72.56]\n",
    "oc3 = [73.74, 72.35, 73.74, 73.74, 72.46, 73.74, 73.74, 72.35, 73.74, 73.74, 73.74, 73.74, 73.74, 73.74, 73.74, 73.74, 73.74, 72.35, 72.35, 73.74, 73.74, 73.74, 72.35, 73.74, 72.77]\n",
    "oc4 = [73.05, 73.05, 73.05, 73.05, 73.05, 71.14, 73.05, 73.05, 73.05, 73.05, 73.05, 73.05, 72.4, 73.05, 72.4, 72.4, 73.05, 73.05, 73.05, 73.05, 73.05, 73.05, 73.05, 73.05, 73.05]"
   ]
  },
  {
   "cell_type": "code",
   "execution_count": 112,
   "metadata": {},
   "outputs": [
    {
     "data": {
      "text/plain": [
       "{'whiskers': [<matplotlib.lines.Line2D at 0x1a13a8c4850>,\n",
       "  <matplotlib.lines.Line2D at 0x1a13a8c4bb0>,\n",
       "  <matplotlib.lines.Line2D at 0x1a13a8d0d00>,\n",
       "  <matplotlib.lines.Line2D at 0x1a13a8db0a0>,\n",
       "  <matplotlib.lines.Line2D at 0x1a13a8e41c0>,\n",
       "  <matplotlib.lines.Line2D at 0x1a13a8e4520>,\n",
       "  <matplotlib.lines.Line2D at 0x1a13a8ef640>,\n",
       "  <matplotlib.lines.Line2D at 0x1a13a8ef9a0>],\n",
       " 'caps': [<matplotlib.lines.Line2D at 0x1a13a8c4f10>,\n",
       "  <matplotlib.lines.Line2D at 0x1a13a8d02b0>,\n",
       "  <matplotlib.lines.Line2D at 0x1a13a8db400>,\n",
       "  <matplotlib.lines.Line2D at 0x1a13a8db760>,\n",
       "  <matplotlib.lines.Line2D at 0x1a13a8e4880>,\n",
       "  <matplotlib.lines.Line2D at 0x1a13a8e4be0>,\n",
       "  <matplotlib.lines.Line2D at 0x1a13a8efd00>,\n",
       "  <matplotlib.lines.Line2D at 0x1a13a8fb0a0>],\n",
       " 'boxes': [<matplotlib.lines.Line2D at 0x1a13a8c44f0>,\n",
       "  <matplotlib.lines.Line2D at 0x1a13a8d09a0>,\n",
       "  <matplotlib.lines.Line2D at 0x1a13a8dbe20>,\n",
       "  <matplotlib.lines.Line2D at 0x1a13a8ef2e0>],\n",
       " 'medians': [<matplotlib.lines.Line2D at 0x1a13a8d0640>,\n",
       "  <matplotlib.lines.Line2D at 0x1a13a8dbac0>,\n",
       "  <matplotlib.lines.Line2D at 0x1a13a8e4f40>,\n",
       "  <matplotlib.lines.Line2D at 0x1a13a8fb400>],\n",
       " 'fliers': [],\n",
       " 'means': []}"
      ]
     },
     "execution_count": 112,
     "metadata": {},
     "output_type": "execute_result"
    },
    {
     "data": {
      "image/png": "[encoded data removed]",
      "text/plain": [
       "<Figure size 360x216 with 1 Axes>"
      ]
     },
     "metadata": {
      "needs_background": "light"
     },
     "output_type": "display_data"
    }
   ],
   "source": [
    "fig,ax = plt.subplots(nrows=1,ncols=1,figsize=(5,3))\n",
    "ax.boxplot([SAD1,SAD2,SAD3,SAD4],labels=['1','2','3','5'],showfliers=False,medianprops=dict(color='r'))"
   ]
  },
  {
   "cell_type": "code",
   "execution_count": 129,
   "metadata": {},
   "outputs": [
    {
     "data": {
      "text/plain": [
       "{'whiskers': [<matplotlib.lines.Line2D at 0x1a13be57f10>,\n",
       "  <matplotlib.lines.Line2D at 0x1a13be672b0>,\n",
       "  <matplotlib.lines.Line2D at 0x1a13be723d0>,\n",
       "  <matplotlib.lines.Line2D at 0x1a13be72730>,\n",
       "  <matplotlib.lines.Line2D at 0x1a13be7e850>,\n",
       "  <matplotlib.lines.Line2D at 0x1a13be7ebe0>,\n",
       "  <matplotlib.lines.Line2D at 0x1a13be88d00>,\n",
       "  <matplotlib.lines.Line2D at 0x1a13be930a0>],\n",
       " 'caps': [<matplotlib.lines.Line2D at 0x1a13be67610>,\n",
       "  <matplotlib.lines.Line2D at 0x1a13be67970>,\n",
       "  <matplotlib.lines.Line2D at 0x1a13be72a90>,\n",
       "  <matplotlib.lines.Line2D at 0x1a13be72df0>,\n",
       "  <matplotlib.lines.Line2D at 0x1a13be7ef40>,\n",
       "  <matplotlib.lines.Line2D at 0x1a13be882e0>,\n",
       "  <matplotlib.lines.Line2D at 0x1a13be93400>,\n",
       "  <matplotlib.lines.Line2D at 0x1a13be93760>],\n",
       " 'boxes': [<matplotlib.lines.Line2D at 0x1a13be57c10>,\n",
       "  <matplotlib.lines.Line2D at 0x1a13be72070>,\n",
       "  <matplotlib.lines.Line2D at 0x1a13be7e4f0>,\n",
       "  <matplotlib.lines.Line2D at 0x1a13be889a0>],\n",
       " 'medians': [<matplotlib.lines.Line2D at 0x1a13be67cd0>,\n",
       "  <matplotlib.lines.Line2D at 0x1a13be7e190>,\n",
       "  <matplotlib.lines.Line2D at 0x1a13be88640>,\n",
       "  <matplotlib.lines.Line2D at 0x1a13be93ac0>],\n",
       " 'fliers': [],\n",
       " 'means': []}"
      ]
     },
     "execution_count": 129,
     "metadata": {},
     "output_type": "execute_result"
    },
    {
     "data": {
      "image/png": "[encoded data removed]",
      "text/plain": [
       "<Figure size 360x216 with 1 Axes>"
      ]
     },
     "metadata": {
      "needs_background": "light"
     },
     "output_type": "display_data"
    }
   ],
   "source": [
    "fig,ax = plt.subplots(nrows=1,ncols=1,figsize=(5,3))\n",
    "ax.boxplot([oc1,oc2,oc3,oc4],labels=['1','2','3','5'],showfliers=False,medianprops=dict(color='r'))"
   ]
  },
  {
   "cell_type": "code",
   "execution_count": 123,
   "metadata": {},
   "outputs": [],
   "source": [
    "#cifar10 1\n",
    "SAD0 = [66.1, 65.35, 65.07, 65.58, 66.21, 64.99, 66.33, 64.66, 66.64, 65.94, 64.76, 66.19, 63.62, 64.0, 63.75, 65.98, 65.33, 64.94, 65.26, 64.35, 65.61, 65.72, 63.89, 65.63, 63.1]\n",
    "SAD1 = [72.26, 72.43, 71.92, 73.47, 71.27, 71.52, 71.61, 73.59, 72.56, 72.03, 72.9, 71.59, 71.54, 72.18, 71.26, 71.3, 73.96, 73.2, 72.74, 72.66, 71.4, 72.21, 71.96, 71.84, 72.01]\n",
    "SAD2 = [75.65, 73.83, 75.24, 73.17, 74.65, 75.71, 75.75, 72.5, 74.25, 72.84, 73.9, 74.79, 73.87, 74.64, 72.37, 74.78, 74.43, 74.51, 75.41, 73.72, 74.42, 75.32, 73.18, 73.2, 75.28]\n",
    "SAD3 = [73.76, 74.58, 74.31, 74.83, 73.52, 74.33, 73.29, 75.18, 75.5, 72.98, 73.95, 74.35, 74.69, 76.01, 74.2, 73.92, 74.3, 74.81, 74.25, 74.89, 74.61, 73.12, 74.84, 73.45, 75.3]\n",
    "SAD4 = [74.66, 75.24, 75.14, 75.42, 74.41, 74.01, 74.11, 75.31, 75.07, 73.4, 74.38, 74.97, 74.86, 74.21, 75.3, 75.36, 74.86, 73.96, 75.35, 75.06, 74.89, 74.54, 74.47, 74.59, 74.76]\n",
    "\n",
    "ssad0 = [69.09, 69.09, 69.09, 69.09, 68.97, 69.09, 68.97, 68.49, 69.09, 68.97, 69.09, 69.09, 69.09, 69.09, 69.09, 69.09, 68.97, 69.09, 69.09, 69.09, 69.09, 69.09, 69.09, 68.49, 69.09, 69.09, 68.97]\n",
    "ssad1 = [71.18, 71.18, 71.18, 71.18, 71.18, 71.18, 71.18, 71.18, 70.19, 69.18, 71.18, 71.18, 71.18, 71.18, 71.18, 71.18, 71.18, 71.18, 69.18, 71.18, 71.18, 71.18, 71.18, 70.53, 71.18, 71.18]\n",
    "ssad2 = [72.78, 72.78, 72.78, 72.78, 72.78, 72.78, 72.78, 72.78, 72.78, 72.78, 72.78, 72.78, 72.78, 72.78, 72.78, 72.78, 72.78, 69.58, 72.78, 72.78, 72.4, 72.78, 72.4, 72.78, 72.78]\n",
    "ssad3 = [73.31, 73.31, 73.31, 73.31, 73.31, 73.31, 73.31, 73.31, 73.31, 73.31, 73.31, 73.31, 73.31, 73.31, 73.31, 73.31, 73.31, 73.31, 73.31, 73.31, 72.63, 73.31, 73.31, 73.31, 73.31]\n",
    "ssad4 = [73.83, 73.83, 73.83, 73.83, 73.83, 73.83, 73.83, 73.83, 73.83, 73.83, 73.83, 73.83, 73.83, 73.83, 73.83, 73.83, 73.83, 73.83, 73.83, 73.83, 73.83, 73.83, 73.83, 73.83, 73.83]"
   ]
  },
  {
   "cell_type": "code",
   "execution_count": 124,
   "metadata": {},
   "outputs": [
    {
     "data": {
      "text/plain": [
       "{'whiskers': [<matplotlib.lines.Line2D at 0x1a13aa56a30>,\n",
       "  <matplotlib.lines.Line2D at 0x1a13aa66340>,\n",
       "  <matplotlib.lines.Line2D at 0x1a13bbec7c0>,\n",
       "  <matplotlib.lines.Line2D at 0x1a13a909f10>,\n",
       "  <matplotlib.lines.Line2D at 0x1a13bc035b0>,\n",
       "  <matplotlib.lines.Line2D at 0x1a13bc03910>,\n",
       "  <matplotlib.lines.Line2D at 0x1a13bce3760>,\n",
       "  <matplotlib.lines.Line2D at 0x1a13bce3ac0>,\n",
       "  <matplotlib.lines.Line2D at 0x1a13bcecbe0>,\n",
       "  <matplotlib.lines.Line2D at 0x1a13bcecf40>],\n",
       " 'caps': [<matplotlib.lines.Line2D at 0x1a13bbe3070>,\n",
       "  <matplotlib.lines.Line2D at 0x1a13bb56700>,\n",
       "  <matplotlib.lines.Line2D at 0x1a13a9099d0>,\n",
       "  <matplotlib.lines.Line2D at 0x1a13aa5f5e0>,\n",
       "  <matplotlib.lines.Line2D at 0x1a13bc03c70>,\n",
       "  <matplotlib.lines.Line2D at 0x1a13bc03fd0>,\n",
       "  <matplotlib.lines.Line2D at 0x1a13bce3e20>,\n",
       "  <matplotlib.lines.Line2D at 0x1a13bcec1c0>,\n",
       "  <matplotlib.lines.Line2D at 0x1a13bcf82e0>,\n",
       "  <matplotlib.lines.Line2D at 0x1a13bcf8640>],\n",
       " 'boxes': [<matplotlib.lines.Line2D at 0x1a13aa56370>,\n",
       "  <matplotlib.lines.Line2D at 0x1a13bbfd3d0>,\n",
       "  <matplotlib.lines.Line2D at 0x1a138aefd90>,\n",
       "  <matplotlib.lines.Line2D at 0x1a13bce3400>,\n",
       "  <matplotlib.lines.Line2D at 0x1a13bcec880>],\n",
       " 'medians': [<matplotlib.lines.Line2D at 0x1a13bbfb7c0>,\n",
       "  <matplotlib.lines.Line2D at 0x1a13aa4ec10>,\n",
       "  <matplotlib.lines.Line2D at 0x1a13bce30a0>,\n",
       "  <matplotlib.lines.Line2D at 0x1a13bcec520>,\n",
       "  <matplotlib.lines.Line2D at 0x1a13bcf89a0>],\n",
       " 'fliers': [],\n",
       " 'means': []}"
      ]
     },
     "execution_count": 124,
     "metadata": {},
     "output_type": "execute_result"
    },
    {
     "data": {
      "image/png": "[encoded data removed]",
      "text/plain": [
       "<Figure size 360x216 with 1 Axes>"
      ]
     },
     "metadata": {
      "needs_background": "light"
     },
     "output_type": "display_data"
    }
   ],
   "source": [
    "fig,ax = plt.subplots(nrows=1,ncols=1,figsize=(5,3))\n",
    "ax.boxplot([SAD0,SAD1,SAD2,SAD3,SAD4],labels=['0','0.01','0.05','0.1','0.2'],showfliers=False, medianprops=dict(color='r'))"
   ]
  },
  {
   "cell_type": "code",
   "execution_count": 115,
   "metadata": {},
   "outputs": [
    {
     "data": {
      "text/plain": [
       "{'whiskers': [<matplotlib.lines.Line2D at 0x1a13a9fe160>,\n",
       "  <matplotlib.lines.Line2D at 0x1a13a9fe4c0>,\n",
       "  <matplotlib.lines.Line2D at 0x1a13aa075e0>,\n",
       "  <matplotlib.lines.Line2D at 0x1a13aa07940>,\n",
       "  <matplotlib.lines.Line2D at 0x1a13aa13a60>,\n",
       "  <matplotlib.lines.Line2D at 0x1a13aa13df0>,\n",
       "  <matplotlib.lines.Line2D at 0x1a13aa1ef10>,\n",
       "  <matplotlib.lines.Line2D at 0x1a13aa292b0>,\n",
       "  <matplotlib.lines.Line2D at 0x1a13aa333d0>,\n",
       "  <matplotlib.lines.Line2D at 0x1a13aa33730>],\n",
       " 'caps': [<matplotlib.lines.Line2D at 0x1a13a9fe820>,\n",
       "  <matplotlib.lines.Line2D at 0x1a13a9feb80>,\n",
       "  <matplotlib.lines.Line2D at 0x1a13aa07ca0>,\n",
       "  <matplotlib.lines.Line2D at 0x1a13aa13040>,\n",
       "  <matplotlib.lines.Line2D at 0x1a13aa1e190>,\n",
       "  <matplotlib.lines.Line2D at 0x1a13aa1e4f0>,\n",
       "  <matplotlib.lines.Line2D at 0x1a13aa29610>,\n",
       "  <matplotlib.lines.Line2D at 0x1a13aa29970>,\n",
       "  <matplotlib.lines.Line2D at 0x1a13aa33a90>,\n",
       "  <matplotlib.lines.Line2D at 0x1a13aa33df0>],\n",
       " 'boxes': [<matplotlib.lines.Line2D at 0x1a13a9f0dc0>,\n",
       "  <matplotlib.lines.Line2D at 0x1a13aa07280>,\n",
       "  <matplotlib.lines.Line2D at 0x1a13aa13700>,\n",
       "  <matplotlib.lines.Line2D at 0x1a13aa1ebb0>,\n",
       "  <matplotlib.lines.Line2D at 0x1a13aa33070>],\n",
       " 'medians': [<matplotlib.lines.Line2D at 0x1a13a9feee0>,\n",
       "  <matplotlib.lines.Line2D at 0x1a13aa133a0>,\n",
       "  <matplotlib.lines.Line2D at 0x1a13aa1e850>,\n",
       "  <matplotlib.lines.Line2D at 0x1a13aa29cd0>,\n",
       "  <matplotlib.lines.Line2D at 0x1a13aa3f190>],\n",
       " 'fliers': [],\n",
       " 'means': []}"
      ]
     },
     "execution_count": 115,
     "metadata": {},
     "output_type": "execute_result"
    },
    {
     "data": {
      "image/png": "[encoded data removed]",
      "text/plain": [
       "<Figure size 360x216 with 1 Axes>"
      ]
     },
     "metadata": {
      "needs_background": "light"
     },
     "output_type": "display_data"
    }
   ],
   "source": [
    "fig,ax = plt.subplots(nrows=1,ncols=1,figsize=(5,3))\n",
    "ax.boxplot([ssad0,ssad1,ssad2,ssad3,ssad4],labels=['0','0.01','0.05','0.1','0.2'],showfliers=False, medianprops=dict(color='r'))"
   ]
  },
  {
   "cell_type": "code",
   "execution_count": 125,
   "metadata": {},
   "outputs": [],
   "source": [
    "#cifar10 2\n",
    "SAD0 = [75.65, 73.83, 75.24, 73.17, 74.65, 75.71, 75.75, 72.5, 74.25, 72.84, 73.9, 74.79, 73.87, 74.64, 72.37, 74.78, 74.43, 74.51, 75.41, 73.72, 74.42, 75.32, 73.18, 73.2, 75.28]\n",
    "SAD1 = [73.8, 74.16, 75.02, 74.4, 74.37, 73.62, 74.13, 73.99, 74.33, 73.86, 73.68, 73.34, 75.28, 73.76, 74.76, 72.68, 74.35, 73.84, 75.67, 74.82, 74.99, 73.63, 73.01, 75.22, 72.72]\n",
    "SAD2 = [73.05, 73.74, 75.26, 73.64, 72.65, 73.57, 74.11, 74.5, 73.56, 72.22, 72.04, 73.32, 73.49, 71.5, 73.27, 72.4, 73.91, 75.14, 73.16, 73.6, 73.57, 72.95, 73.31, 72.24, 74.69]\n",
    "SAD3 = [73.88, 72.35, 74.26, 73.41, 73.3, 74.71, 73.01, 71.17, 72.71, 72.35, 71.73, 71.01, 73.33, 72.75, 73.52, 73.82, 71.6, 73.92, 73.78, 72.5, 72.26, 74.46, 73.68, 71.72, 72.96]\n",
    "SAD4 = [71.21, 71.99, 70.53, 72.67, 73.44, 70.87, 72.31, 71.61, 73.45, 72.2, 71.75, 72.52, 71.82, 72.49, 69.88, 72.0, 71.02, 73.43, 71.48, 72.18, 72.29, 71.52, 72.23, 70.44, 70.92]\n",
    "\n",
    "iso0 = [72.78, 64.19, 64.29, 63.45, 64.36, 64.68, 64.3, 64.44, 64.61, 64.34, 64.35, 64.58, 63.95, 64.84, 64.36, 64.04, 64.88, 64.19, 64.79, 64.19, 64.69, 64.51, 63.86, 64.36, 64.42, 64.21]\n",
    "iso1 = [72.67, 64.52, 64.59, 63.89, 64.69, 64.45, 64.14, 64.13, 64.5, 64.01, 64.17, 64.46, 64.33, 64.7, 64.39, 64.44, 63.53, 64.14, 64.16, 64.33, 63.84, 64.04, 64.13, 64.19, 63.75, 64.27]\n",
    "iso2 = [72.17, 63.98, 64.4, 64.24, 63.99, 63.83, 64.38, 64.03, 64.4, 64.06, 64.38, 64.48, 63.72, 63.98, 64.29, 64.48, 64.75, 64.3, 64.06, 64.11, 63.73, 63.86, 64.64, 64.08, 64.77, 64.63]\n",
    "iso3 = [63.7, 64.03, 64.43, 64.17, 64.59, 64.15, 63.74, 63.89, 64.13, 63.57, 64.02, 64.21, 64.09, 64.1, 64.23, 64.35, 64.12, 64.2, 63.83, 63.96, 63.84, 64.5, 63.95, 63.23, 64.28]\n",
    "iso4 = [63.58, 62.97, 63.68, 63.29, 64.22, 64.01, 63.73, 63.47, 64.24, 63.45, 63.72, 63.4, 64.05, 63.79, 63.52, 63.73, 63.62, 63.83, 64.03, 63.53, 63.84, 63.71, 64.14, 63.7, 63.92]"
   ]
  },
  {
   "cell_type": "code",
   "execution_count": 126,
   "metadata": {},
   "outputs": [
    {
     "data": {
      "text/plain": [
       "{'whiskers': [<matplotlib.lines.Line2D at 0x1a13bd5bac0>,\n",
       "  <matplotlib.lines.Line2D at 0x1a13bd5be50>,\n",
       "  <matplotlib.lines.Line2D at 0x1a13bd62f10>,\n",
       "  <matplotlib.lines.Line2D at 0x1a13bd712b0>,\n",
       "  <matplotlib.lines.Line2D at 0x1a13bd7c3d0>,\n",
       "  <matplotlib.lines.Line2D at 0x1a13bd7c730>,\n",
       "  <matplotlib.lines.Line2D at 0x1a13bd89850>,\n",
       "  <matplotlib.lines.Line2D at 0x1a13bd89bb0>,\n",
       "  <matplotlib.lines.Line2D at 0x1a13bd91cd0>,\n",
       "  <matplotlib.lines.Line2D at 0x1a13bd9d070>],\n",
       " 'caps': [<matplotlib.lines.Line2D at 0x1a13bd62190>,\n",
       "  <matplotlib.lines.Line2D at 0x1a13bd624f0>,\n",
       "  <matplotlib.lines.Line2D at 0x1a13bd71610>,\n",
       "  <matplotlib.lines.Line2D at 0x1a13bd71970>,\n",
       "  <matplotlib.lines.Line2D at 0x1a13bd7ca90>,\n",
       "  <matplotlib.lines.Line2D at 0x1a13bd7cdf0>,\n",
       "  <matplotlib.lines.Line2D at 0x1a13bd89f10>,\n",
       "  <matplotlib.lines.Line2D at 0x1a13bd912b0>,\n",
       "  <matplotlib.lines.Line2D at 0x1a13bd9d3d0>,\n",
       "  <matplotlib.lines.Line2D at 0x1a13bd9d730>],\n",
       " 'boxes': [<matplotlib.lines.Line2D at 0x1a13bd5b760>,\n",
       "  <matplotlib.lines.Line2D at 0x1a13bd62bb0>,\n",
       "  <matplotlib.lines.Line2D at 0x1a13bd7c070>,\n",
       "  <matplotlib.lines.Line2D at 0x1a13bd894f0>,\n",
       "  <matplotlib.lines.Line2D at 0x1a13bd91970>],\n",
       " 'medians': [<matplotlib.lines.Line2D at 0x1a13bd62850>,\n",
       "  <matplotlib.lines.Line2D at 0x1a13bd71cd0>,\n",
       "  <matplotlib.lines.Line2D at 0x1a13bd89190>,\n",
       "  <matplotlib.lines.Line2D at 0x1a13bd91610>,\n",
       "  <matplotlib.lines.Line2D at 0x1a13bd9da90>],\n",
       " 'fliers': [],\n",
       " 'means': []}"
      ]
     },
     "execution_count": 126,
     "metadata": {},
     "output_type": "execute_result"
    },
    {
     "data": {
      "image/png": "[encoded data removed]",
      "text/plain": [
       "<Figure size 360x216 with 1 Axes>"
      ]
     },
     "metadata": {
      "needs_background": "light"
     },
     "output_type": "display_data"
    }
   ],
   "source": [
    "fig,ax = plt.subplots(nrows=1,ncols=1,figsize=(5,3))\n",
    "ax.boxplot([SAD0,SAD1,SAD2,SAD3,SAD4],labels=['0','0.01','0.05','0.1','0.2'],showfliers=False, medianprops=dict(color='r'))"
   ]
  },
  {
   "cell_type": "code",
   "execution_count": 118,
   "metadata": {},
   "outputs": [
    {
     "data": {
      "text/plain": [
       "{'whiskers': [<matplotlib.lines.Line2D at 0x1a13aaa8070>,\n",
       "  <matplotlib.lines.Line2D at 0x1a13aaa83d0>,\n",
       "  <matplotlib.lines.Line2D at 0x1a13aab44c0>,\n",
       "  <matplotlib.lines.Line2D at 0x1a13aab47f0>,\n",
       "  <matplotlib.lines.Line2D at 0x1a13aabf820>,\n",
       "  <matplotlib.lines.Line2D at 0x1a13aabfb50>,\n",
       "  <matplotlib.lines.Line2D at 0x1a13aacab80>,\n",
       "  <matplotlib.lines.Line2D at 0x1a13aacaeb0>,\n",
       "  <matplotlib.lines.Line2D at 0x1a13aad7ee0>,\n",
       "  <matplotlib.lines.Line2D at 0x1a13aae1250>],\n",
       " 'caps': [<matplotlib.lines.Line2D at 0x1a13aaa8730>,\n",
       "  <matplotlib.lines.Line2D at 0x1a13aaa8a90>,\n",
       "  <matplotlib.lines.Line2D at 0x1a13aab4b20>,\n",
       "  <matplotlib.lines.Line2D at 0x1a13aab4e50>,\n",
       "  <matplotlib.lines.Line2D at 0x1a13aabfe80>,\n",
       "  <matplotlib.lines.Line2D at 0x1a13aaca1f0>,\n",
       "  <matplotlib.lines.Line2D at 0x1a13aad7220>,\n",
       "  <matplotlib.lines.Line2D at 0x1a13aad7550>,\n",
       "  <matplotlib.lines.Line2D at 0x1a13aae1580>,\n",
       "  <matplotlib.lines.Line2D at 0x1a13aae18b0>],\n",
       " 'boxes': [<matplotlib.lines.Line2D at 0x1a13aa94d30>,\n",
       "  <matplotlib.lines.Line2D at 0x1a13aab4190>,\n",
       "  <matplotlib.lines.Line2D at 0x1a13aabf4f0>,\n",
       "  <matplotlib.lines.Line2D at 0x1a13aaca850>,\n",
       "  <matplotlib.lines.Line2D at 0x1a13aad7bb0>],\n",
       " 'medians': [<matplotlib.lines.Line2D at 0x1a13aaa8df0>,\n",
       "  <matplotlib.lines.Line2D at 0x1a13aabf1c0>,\n",
       "  <matplotlib.lines.Line2D at 0x1a13aaca520>,\n",
       "  <matplotlib.lines.Line2D at 0x1a13aad7880>,\n",
       "  <matplotlib.lines.Line2D at 0x1a13aae1be0>],\n",
       " 'fliers': [],\n",
       " 'means': []}"
      ]
     },
     "execution_count": 118,
     "metadata": {},
     "output_type": "execute_result"
    },
    {
     "data": {
      "image/png": "[encoded data removed]",
      "text/plain": [
       "<Figure size 360x216 with 1 Axes>"
      ]
     },
     "metadata": {
      "needs_background": "light"
     },
     "output_type": "display_data"
    }
   ],
   "source": [
    "fig,ax = plt.subplots(nrows=1,ncols=1,figsize=(5,3))\n",
    "ax.boxplot([iso0,iso1,iso2,iso3,iso4],labels=['0','0.01','0.05','0.1','0.2'],showfliers=False, medianprops=dict(color='r'))"
   ]
  },
  {
   "cell_type": "code",
   "execution_count": null,
   "metadata": {},
   "outputs": [],
   "source": [
    "#cifar10 3\n",
    "SAD1 = [72.35, 72.87, 74.21, 69.86, 73.4, 74.37, 72.35, 73.84, 71.67, 73.44, 72.9, 73.43, 71.6, 72.16, 72.85, 73.01, 73.46, 73.29, 73.02, 70.33, 72.42, 72.32, 72.78, 74.58, 72.6]\n",
    "SAD2 = [68.73, 66.65, 67.88, 66.17, 66.04, 68.11, 68.56, 67.3, 66.47, 68.6, 66.18, 64.97, 67.86, 66.75, 66.18, 66.45, 67.15, 67.32, 66.35, 68.48, 66.64, 68.76, 67.76, 67.74, 68.39]\n",
    "SAD3 = [72.73, 70.95, 72.86, 71.9, 71.47, 71.62, 73.35, 71.5, 71.39, 71.37, 71.21, 71.75, 72.53, 71.79, 73.3, 71.92, 70.9, 71.74, 72.79, 71.23, 73.0, 72.54, 73.06, 72.35, 72.33]\n",
    "SAD4 = [75.96, 77.33, 76.34, 74.67, 76.31, 76.82, 75.15, 76.0, 75.41, 76.23, 75.48, 77.27, 76.31, 75.8, 76.44, 76.1, 76.2, 76.67, 75.49, 76.6, 77.17, 77.36, 75.88, 77.11, 76.52]\n",
    "\n",
    "iso1 = [63.7, 64.03, 64.43, 64.17, 64.59, 64.15, 63.74, 63.89, 64.13, 63.57, 64.02, 64.21, 64.09, 64.1, 64.23, 64.35, 64.12, 64.2, 63.83, 63.96, 63.84, 64.5, 63.95, 63.23, 64.28]\n",
    "iso2 = [64.29, 63.9, 64.26, 64.61, 64.36, 63.95, 63.8, 64.19, 63.64, 64.42, 63.86, 63.65, 63.89, 64.12, 63.69, 64.71, 64.3, 64.3, 63.99, 64.1, 64.0, 64.29, 64.06, 63.55, 63.64]\n",
    "iso3 = [63.91, 63.96, 64.16, 64.37, 64.55, 63.99, 63.95, 63.81, 64.02, 64.09, 63.92, 63.87, 63.9, 63.69, 64.31, 64.37, 64.33, 64.51, 63.71, 64.35, 63.71, 64.3, 64.14, 63.9, 64.06]\n",
    "iso4 = [63.95, 64.21, 63.88, 64.14, 64.35, 63.91, 64.28, 64.02, 64.2, 64.51, 64.19, 64.31, 64.07, 64.29, 63.85, 64.25, 64.19, 64.48, 63.47, 64.12, 64.01, 64.5, 64.52, 63.55, 63.94]"
   ]
  },
  {
   "cell_type": "code",
   "execution_count": 121,
   "metadata": {},
   "outputs": [
    {
     "data": {
      "text/plain": [
       "{'whiskers': [<matplotlib.lines.Line2D at 0x1a13bb8eeb0>,\n",
       "  <matplotlib.lines.Line2D at 0x1a13bb9d250>,\n",
       "  <matplotlib.lines.Line2D at 0x1a13bbaa340>,\n",
       "  <matplotlib.lines.Line2D at 0x1a13bbaa670>,\n",
       "  <matplotlib.lines.Line2D at 0x1a13bbb46a0>,\n",
       "  <matplotlib.lines.Line2D at 0x1a13bbb49d0>,\n",
       "  <matplotlib.lines.Line2D at 0x1a13bbc2a00>,\n",
       "  <matplotlib.lines.Line2D at 0x1a13bbc2d30>],\n",
       " 'caps': [<matplotlib.lines.Line2D at 0x1a13bb9d5b0>,\n",
       "  <matplotlib.lines.Line2D at 0x1a13bb9d910>,\n",
       "  <matplotlib.lines.Line2D at 0x1a13bbaa9a0>,\n",
       "  <matplotlib.lines.Line2D at 0x1a13bbaacd0>,\n",
       "  <matplotlib.lines.Line2D at 0x1a13bbb4d00>,\n",
       "  <matplotlib.lines.Line2D at 0x1a13bbc2070>,\n",
       "  <matplotlib.lines.Line2D at 0x1a13bbcf0a0>,\n",
       "  <matplotlib.lines.Line2D at 0x1a13bbcf3d0>],\n",
       " 'boxes': [<matplotlib.lines.Line2D at 0x1a13bb8eb50>,\n",
       "  <matplotlib.lines.Line2D at 0x1a13bb9dfd0>,\n",
       "  <matplotlib.lines.Line2D at 0x1a13bbb4370>,\n",
       "  <matplotlib.lines.Line2D at 0x1a13bbc26d0>],\n",
       " 'medians': [<matplotlib.lines.Line2D at 0x1a13bb9dc70>,\n",
       "  <matplotlib.lines.Line2D at 0x1a13bbb4040>,\n",
       "  <matplotlib.lines.Line2D at 0x1a13bbc23a0>,\n",
       "  <matplotlib.lines.Line2D at 0x1a13bbcf700>],\n",
       " 'fliers': [],\n",
       " 'means': []}"
      ]
     },
     "execution_count": 121,
     "metadata": {},
     "output_type": "execute_result"
    },
    {
     "data": {
      "image/png": "[encoded data removed]",
      "text/plain": [
       "<Figure size 360x216 with 1 Axes>"
      ]
     },
     "metadata": {
      "needs_background": "light"
     },
     "output_type": "display_data"
    }
   ],
   "source": [
    "fig,ax = plt.subplots(nrows=1,ncols=1,figsize=(5,3))\n",
    "ax.boxplot([SAD1,SAD2,SAD3,SAD4],labels=['1','2','3','5'],showfliers=False,medianprops=dict(color='r'))"
   ]
  },
  {
   "cell_type": "code",
   "execution_count": null,
   "metadata": {},
   "outputs": [],
   "source": [
    "#Train"
   ]
  },
  {
   "cell_type": "code",
   "execution_count": null,
   "metadata": {},
   "outputs": [],
   "source": [
    "ssad_0 = [91.47, 87.16, 86.72, 90.57, 88.72, 88.38, 87.87, 90.88, 93.3, 91.45, 90.57, 90.96, 89.5, 88.55, 91.14, 91.61, 89.26, 87.97, 89.34, 91.03, 87.33, 85.45, 89.67, 91.65, 88.63]\n",
    "ssad_1 = [92.01, 88.21, 87.61, 91.29, 89.54, 89.17, 88.48, 91.73, 93.55, 91.98, 91.19, 91.69, 89.68, 89.43, 91.47, 91.85, 90.3, 89.34, 89.92, 91.82, 88.43, 86.76, 90.42, 91.85, 89.44]\n",
    "ssad_2 = [92.2, 88.58, 87.56, 91.73, 90.01, 89.45, 89.13, 91.77, 93.04, 92.3, 91.53, 91.97, 90.61, 89.66, 91.85, 91.42, 90.77, 89.79, 90.64, 92.21, 89.84, 88.06, 90.88, 92.1, 90.45]\n",
    "ssad_3 = [92.38, 88.02, 87.31, 91.86, 90.02, 89.27, 89.24, 91.9, 92.52, 92.41, 91.73, 92.07, 90.45, 89.81, 91.92, 91.53, 91.01, 89.4, 90.13, 92.54, 89.4, 88.08, 91.13, 92.11, 90.18]\n",
    "ssad_4 = [92.38, 88.03, 87.28, 91.92, 90.12, 89.46, 89.33, 92.03, 92.6, 92.54, 91.86, 92.07, 90.06, 89.93, 92.13, 91.65, 91.15, 89.54, 90.2, 92.78, 89.49, 88.05, 91.28, 92.1, 89.9]\n"
   ]
  }
 ],
 "metadata": {
  "kernelspec": {
   "display_name": "Python 3",
   "language": "python",
   "name": "python3"
  },
  "language_info": {
   "codemirror_mode": {
    "name": "ipython",
    "version": 3
   },
   "file_extension": ".py",
   "mimetype": "text/x-python",
   "name": "python",
   "nbconvert_exporter": "python",
   "pygments_lexer": "ipython3",
   "version": "3.8.5"
  }
 },
 "nbformat": 4,
 "nbformat_minor": 4
}
